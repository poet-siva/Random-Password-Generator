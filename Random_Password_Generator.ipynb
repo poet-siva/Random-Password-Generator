{
  "nbformat": 4,
  "nbformat_minor": 0,
  "metadata": {
    "colab": {
      "name": "Random Password Generator.ipynb",
      "provenance": [],
      "authorship_tag": "ABX9TyMMkLfnX7xvo3IYCcZYcmXv",
      "include_colab_link": true
    },
    "kernelspec": {
      "name": "python3",
      "display_name": "Python 3"
    }
  },
  "cells": [
    {
      "cell_type": "markdown",
      "metadata": {
        "id": "view-in-github",
        "colab_type": "text"
      },
      "source": [
        "<a href=\"https://colab.research.google.com/github/poet-siva/Random-Password-Generator/blob/main/Random_Password_Generator.ipynb\" target=\"_parent\"><img src=\"https://colab.research.google.com/assets/colab-badge.svg\" alt=\"Open In Colab\"/></a>"
      ]
    },
    {
      "cell_type": "code",
      "metadata": {
        "colab": {
          "base_uri": "https://localhost:8080/"
        },
        "id": "NSOx9zQ11BFU",
        "outputId": "f98466ad-73b1-4ed0-ce82-5e6cd295d8b0"
      },
      "source": [
        " \n",
        "import random\n",
        " \n",
        "Max_length =10\n",
        " \n",
        "digit =['0', '1', '2', '3', '4']\n",
        " \n",
        "low_char =['a', 'b', 'c', 'd', 'e', 'f', 'g', 'h', 'j', 'k', 'l', 'm', 'n', 't', 'v', 'o', 'p', 'q']\n",
        " \n",
        "upper_char =['A', 'B', 'C', 'Z', 'X', 'V', 'Q', 'W', 'E', 'R', 'T', 'Y', 'U', 'I', 'O', 'P']\n",
        " \n",
        "Symbol =['@','#' ,'₹', '_', '&', '.', '\"', '+', '?', '*', '%', '/']\n",
        " \n",
        "combined_list = digit + low_char + upper_char + Symbol\n",
        " \n",
        "r_degit = random.choice(digit)\n",
        " \n",
        "r_low = random.choice(low_char)\n",
        " \n",
        "r_upper =random.choice(upper_char)\n",
        " \n",
        "r_symbol =random.choice(Symbol)\n",
        " \n",
        "temp_pass =r_degit + r_low + r_upper + r_symbol \n",
        " \n",
        "for x in range(Max_length-6):\n",
        " \n",
        "  temp_pass = temp_pass + random.choice(combined_list)\n",
        " \n",
        "password =\"\"\n",
        " \n",
        "for x in temp_pass:\n",
        " \n",
        "  password = password + x\n",
        " \n",
        "print(\"Strong password=  \", password)"
      ],
      "execution_count": 12,
      "outputs": [
        {
          "output_type": "stream",
          "text": [
            "Strong password=   3jC*/_0Y\n"
          ],
          "name": "stdout"
        }
      ]
    }
  ]
}